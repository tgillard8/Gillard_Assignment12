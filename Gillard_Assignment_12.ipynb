{
 "cells": [
  {
   "cell_type": "code",
   "execution_count": null,
   "id": "65969aab",
   "metadata": {},
   "outputs": [],
   "source": [
    "import csv\n",
    "\n",
    "#file path to stations.csv\n",
    "file_path = '/Users/ratatat-tavien/Downloads/Stations.csv'\n",
    "\n",
    "#initialize dictionary for airport info\n",
    "airport_dict = {}\n",
    "\n",
    "#open csv\n",
    "with open(file_path) as csvfile:\n",
    "    #interpret csv as dictionary\n",
    "    reader = csv.DictReader(csvfile)\n",
    "    #loop for each row in csv file\n",
    "    for row in reader:\n",
    "        #3 digit code in csv\n",
    "        iata_code = row['IATA']\n",
    "        #city row in csv\n",
    "        city = row['DISPLAY_AIRPORT_CITY_NAME_FULL']\n",
    "        #state in csv\n",
    "        state = row['AIRPORT_STATE_NAME']\n",
    "        #mapping iata code to tuple of both city and state\n",
    "        airport_dict[iata_code] = (city, state)\n",
    "\n",
    "#input prompt\n",
    "iata_input = input(\"Enter IATA Airport Code: \")\n",
    "#pull data from dictionary\n",
    "location = airport_dict.get(iata_input)\n",
    "\n",
    "#print, restating 3 digit code as well as tuple from previously mapped data\n",
    "print(f\"The airport code '{iata_input}' is located in {location[0]}, {location[1]}.\")"
   ]
  },
  {
   "cell_type": "code",
   "execution_count": 9,
   "id": "77a4c73c",
   "metadata": {},
   "outputs": [
    {
     "name": "stdout",
     "output_type": "stream",
     "text": [
      "Enter number of popular cities: 16\n",
      "Files exported to downloads\n"
     ]
    }
   ],
   "source": [
    "#import pandas library/reassign it to pd\n",
    "import pandas as pd\n",
    "\n",
    "#load data from csv file\n",
    "df = pd.read_csv('/Users/ratatat-tavien/Downloads/CompleteData.csv')\n",
    "\n",
    "#define function get_most_popular_cities\n",
    "def get_most_popular_cities(column_name, top_n):\n",
    "    return df[column_name].value_counts().head(top_n)\n",
    "\n",
    "#user input for number of cities, convert to integer\n",
    "num_cities = int(input(\"Enter number of popular cities: \"))\n",
    "\n",
    "#compute most popular departing utilizing origin\n",
    "most_popular_departing = get_most_popular_cities('ORIGIN', num_cities)\n",
    "\n",
    "#compute most popular arriving utilizing destination\n",
    "most_popular_arriving = get_most_popular_cities('DEST', num_cities)\n",
    "\n",
    "#export 2 separate tsv files with headers and separation\n",
    "most_popular_departing.to_csv('/Users/ratatat-tavien/Downloads/Most_Popular_Departing_Cities.tsv', sep='\\t', header=True)\n",
    "most_popular_arriving.to_csv('/Users/ratatat-tavien/Downloads/Most_Popular_Arriving_Cities.tsv', sep='\\t', header=True)\n",
    "\n",
    "print(\"Files exported to downloads\")"
   ]
  },
  {
   "cell_type": "code",
   "execution_count": null,
   "id": "c2c45c03",
   "metadata": {},
   "outputs": [],
   "source": []
  }
 ],
 "metadata": {
  "kernelspec": {
   "display_name": "Python 3 (ipykernel)",
   "language": "python",
   "name": "python3"
  },
  "language_info": {
   "codemirror_mode": {
    "name": "ipython",
    "version": 3
   },
   "file_extension": ".py",
   "mimetype": "text/x-python",
   "name": "python",
   "nbconvert_exporter": "python",
   "pygments_lexer": "ipython3",
   "version": "3.11.5"
  }
 },
 "nbformat": 4,
 "nbformat_minor": 5
}
